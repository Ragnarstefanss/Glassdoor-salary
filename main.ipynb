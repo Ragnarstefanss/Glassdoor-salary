{
 "cells": [
  {
   "cell_type": "code",
   "execution_count": 2,
   "metadata": {},
   "outputs": [],
   "source": [
    "import pandas as pd\n",
    "import numpy as np\n",
    "import matplotlib.pyplot as plt\n",
    "import seaborn as sns\n",
    "from sklearn.tree import DecisionTreeRegressor\n",
    "import re\n",
    "from sklearn import linear_model, datasets\n",
    "from sklearn.model_selection import GridSearchCV\n",
    "from sklearn.linear_model import LogisticRegression\n",
    "from sklearn.ensemble import RandomForestClassifier \n",
    "from sklearn.ensemble import RandomForestRegressor\n",
    "from sklearn.model_selection import GridSearchCV \n",
    "from sklearn.pipeline import Pipeline\n",
    "from sklearn.tree import DecisionTreeClassifier\n",
    "from sklearn.datasets import fetch_openml\n",
    "from sklearn.impute import SimpleImputer\n",
    "from sklearn.inspection import permutation_importance\n",
    "from sklearn.compose import ColumnTransformer\n",
    "from sklearn.model_selection import train_test_split\n",
    "from sklearn.preprocessing import StandardScaler, OneHotEncoder\n",
    "from sklearn.datasets import make_regression\n",
    "from sklearn.ensemble import GradientBoostingRegressor\n",
    "from sklearn.datasets import make_regression\n",
    "from sklearn.datasets import make_classification\n",
    "from sklearn.ensemble import RandomForestClassifier\n",
    "from sklearn.model_selection import cross_val_score\n",
    "from sklearn.ensemble import AdaBoostRegressor\n",
    "from sklearn.datasets import make_regression\n",
    "from sklearn.tree import DecisionTreeRegressor\n",
    "from sklearn.ensemble import AdaBoostClassifier\n",
    "import operator\n",
    "import warnings\n",
    "warnings.filterwarnings(\"ignore\")"
   ]
  },
  {
   "cell_type": "code",
   "execution_count": 3,
   "metadata": {},
   "outputs": [],
   "source": [
    "# GET DATA FROM glassdoor.csv AND SELECT ONLY COLUMNS WE ARE INTERESTED IN\n",
    "jobs = pd.read_csv('dataset/glassdoor.csv', parse_dates=['job.discoverDate'])\n",
    "best_columns = jobs[['gaTrackerData.jobTitle', 'map.country', 'gaTrackerData.location', 'salary.salaries', 'overview.industry', 'overview.sector']]           \n",
    "del jobs\n",
    "\n",
    "# RENAME COLUMNS\n",
    "rename_columns = {'gaTrackerData.jobTitle': 'jobTitle',\n",
    "                  'map.country': 'country',\n",
    "                  'gaTrackerData.location': 'location',\n",
    "                  'salary.salaries': 'salaries',\n",
    "                  'overview.industry': 'industry',\n",
    "                  'overview.sector': 'sector'}\n",
    "best_columns = best_columns.rename(columns=rename_columns)\n",
    "\n",
    "# FILL IN NAN AND DROP SALARIES THAT ARE NAN\n",
    "best_columns['country'].fillna(\"Unknown\", inplace=True)\n",
    "best_columns['sector'].fillna(\"Unknown\", inplace=True)\n",
    "best_columns['location'].fillna(\"Unknown\", inplace=True)\n",
    "best_columns['industry'].fillna(\"Unknown\", inplace=True)\n",
    "best_columns = best_columns[best_columns['salaries'].notna()]"
   ]
  },
  {
   "cell_type": "code",
   "execution_count": 4,
   "metadata": {},
   "outputs": [],
   "source": [
    "# FILTER BY ONLY DATA JOBS\n",
    "def search_job(job_title):\n",
    "    re_expression = '(?<=data.)'\n",
    "    job_title = str(job_title)\n",
    "    job_title = job_title.lower()\n",
    "    is_the_job = re.search(re_expression, job_title)\n",
    "    if is_the_job:\n",
    "        return True\n",
    "    else:\n",
    "        return False\n",
    "\n",
    "best_columns = best_columns[best_columns['jobTitle'].apply(search_job)==True]"
   ]
  },
  {
   "cell_type": "code",
   "execution_count": 5,
   "metadata": {},
   "outputs": [],
   "source": [
    "counts = best_columns['jobTitle'].value_counts()\n",
    "best_columns = best_columns.loc[best_columns['jobTitle'].isin(counts.index[counts < 10])]"
   ]
  },
  {
   "cell_type": "code",
   "execution_count": 6,
   "metadata": {},
   "outputs": [],
   "source": [
    "## N ROWS (CHANGE HERE IF YOU WANNA LOAD IN MORE DATA)\n",
    "N = 2000\n",
    "features = best_columns[:N]\n",
    "features = features.drop(columns=['salaries'])\n",
    "targets = best_columns['salaries'][:N]\n",
    "\n",
    "# CREATE GET_DUMMIES AND TRAIN TEST SPLIT ON THEM\n",
    "algorithms = {}\n",
    "dummies_train = pd.get_dummies(features)\n",
    "dummies_test = pd.get_dummies(targets)\n",
    "X_train, X_valid, y_train, y_valid = train_test_split(dummies_train, dummies_test, test_size = 0.2, random_state = 42)\n",
    "\n",
    "# n_estimators\n",
    "n_e1 = 10\n",
    "n_e2 = 100\n",
    "n_e3 = 1000"
   ]
  },
  {
   "cell_type": "code",
   "execution_count": 7,
   "metadata": {},
   "outputs": [
    {
     "data": {
      "text/html": [
       "<div>\n",
       "<style scoped>\n",
       "    .dataframe tbody tr th:only-of-type {\n",
       "        vertical-align: middle;\n",
       "    }\n",
       "\n",
       "    .dataframe tbody tr th {\n",
       "        vertical-align: top;\n",
       "    }\n",
       "\n",
       "    .dataframe thead th {\n",
       "        text-align: right;\n",
       "    }\n",
       "</style>\n",
       "<table border=\"1\" class=\"dataframe\">\n",
       "  <thead>\n",
       "    <tr style=\"text-align: right;\">\n",
       "      <th></th>\n",
       "      <th>jobTitle</th>\n",
       "      <th>country</th>\n",
       "      <th>location</th>\n",
       "      <th>salaries</th>\n",
       "      <th>industry</th>\n",
       "      <th>sector</th>\n",
       "    </tr>\n",
       "  </thead>\n",
       "  <tbody>\n",
       "    <tr>\n",
       "      <th>16</th>\n",
       "      <td>Data Scientist media</td>\n",
       "      <td>United Kingdom</td>\n",
       "      <td>Charing Cross</td>\n",
       "      <td>2498.0</td>\n",
       "      <td>Staffing &amp; Outsourcing</td>\n",
       "      <td>Business Services</td>\n",
       "    </tr>\n",
       "    <tr>\n",
       "      <th>70</th>\n",
       "      <td>Senior Data Analyst (H/F)</td>\n",
       "      <td>BE</td>\n",
       "      <td>Brussels</td>\n",
       "      <td>2544.0</td>\n",
       "      <td>Internet</td>\n",
       "      <td>Information Technology</td>\n",
       "    </tr>\n",
       "    <tr>\n",
       "      <th>71</th>\n",
       "      <td>GO.Exchange - Data Engineer</td>\n",
       "      <td>TH</td>\n",
       "      <td>Bangkok</td>\n",
       "      <td>2545.0</td>\n",
       "      <td>Financial Transaction Processing</td>\n",
       "      <td>Finance</td>\n",
       "    </tr>\n",
       "    <tr>\n",
       "      <th>92</th>\n",
       "      <td>Trainee Service Engineer (Mobile Data)</td>\n",
       "      <td>Unknown</td>\n",
       "      <td>Unknown</td>\n",
       "      <td>2562.0</td>\n",
       "      <td>IT Services</td>\n",
       "      <td>Information Technology</td>\n",
       "    </tr>\n",
       "    <tr>\n",
       "      <th>116</th>\n",
       "      <td>Tender Engineer - Prefab Data Centers</td>\n",
       "      <td>Unknown</td>\n",
       "      <td>Unknown</td>\n",
       "      <td>2581.0</td>\n",
       "      <td>Energy</td>\n",
       "      <td>Oil, Gas, Energy &amp; Utilities</td>\n",
       "    </tr>\n",
       "    <tr>\n",
       "      <th>...</th>\n",
       "      <td>...</td>\n",
       "      <td>...</td>\n",
       "      <td>...</td>\n",
       "      <td>...</td>\n",
       "      <td>...</td>\n",
       "      <td>...</td>\n",
       "    </tr>\n",
       "    <tr>\n",
       "      <th>165259</th>\n",
       "      <td>Senior Programs Data Analyst - 201680 - Clerk ...</td>\n",
       "      <td>Unknown</td>\n",
       "      <td>Unknown</td>\n",
       "      <td>52053.0</td>\n",
       "      <td>Government Agencies</td>\n",
       "      <td>Government</td>\n",
       "    </tr>\n",
       "    <tr>\n",
       "      <th>165262</th>\n",
       "      <td>Data Analyst - Digital Marketing</td>\n",
       "      <td>HK</td>\n",
       "      <td>Unknown</td>\n",
       "      <td>52056.0</td>\n",
       "      <td>Unknown</td>\n",
       "      <td>Unknown</td>\n",
       "    </tr>\n",
       "    <tr>\n",
       "      <th>165275</th>\n",
       "      <td>Senior Manager-Data Engineering</td>\n",
       "      <td>Unknown</td>\n",
       "      <td>Unknown</td>\n",
       "      <td>52068.0</td>\n",
       "      <td>Consulting</td>\n",
       "      <td>Business Services</td>\n",
       "    </tr>\n",
       "    <tr>\n",
       "      <th>165280</th>\n",
       "      <td>Senior Data Engineer mit Schwerpunkt Distribut...</td>\n",
       "      <td>AT</td>\n",
       "      <td>Graz</td>\n",
       "      <td>52071.0</td>\n",
       "      <td>Unknown</td>\n",
       "      <td>Unknown</td>\n",
       "    </tr>\n",
       "    <tr>\n",
       "      <th>165286</th>\n",
       "      <td>Data Center Partner Marketing Manager (Japan)</td>\n",
       "      <td>JP</td>\n",
       "      <td>Tokyo</td>\n",
       "      <td>52076.0</td>\n",
       "      <td>Computer Hardware &amp; Software</td>\n",
       "      <td>Information Technology</td>\n",
       "    </tr>\n",
       "  </tbody>\n",
       "</table>\n",
       "<p>14719 rows × 6 columns</p>\n",
       "</div>"
      ],
      "text/plain": [
       "                                                 jobTitle         country  \\\n",
       "16                                   Data Scientist media  United Kingdom   \n",
       "70                              Senior Data Analyst (H/F)              BE   \n",
       "71                            GO.Exchange - Data Engineer              TH   \n",
       "92                 Trainee Service Engineer (Mobile Data)         Unknown   \n",
       "116                 Tender Engineer - Prefab Data Centers         Unknown   \n",
       "...                                                   ...             ...   \n",
       "165259  Senior Programs Data Analyst - 201680 - Clerk ...         Unknown   \n",
       "165262                   Data Analyst - Digital Marketing              HK   \n",
       "165275                    Senior Manager-Data Engineering         Unknown   \n",
       "165280  Senior Data Engineer mit Schwerpunkt Distribut...              AT   \n",
       "165286      Data Center Partner Marketing Manager (Japan)              JP   \n",
       "\n",
       "             location  salaries                          industry  \\\n",
       "16      Charing Cross    2498.0            Staffing & Outsourcing   \n",
       "70           Brussels    2544.0                          Internet   \n",
       "71            Bangkok    2545.0  Financial Transaction Processing   \n",
       "92            Unknown    2562.0                       IT Services   \n",
       "116           Unknown    2581.0                            Energy   \n",
       "...               ...       ...                               ...   \n",
       "165259        Unknown   52053.0               Government Agencies   \n",
       "165262        Unknown   52056.0                           Unknown   \n",
       "165275        Unknown   52068.0                        Consulting   \n",
       "165280           Graz   52071.0                           Unknown   \n",
       "165286          Tokyo   52076.0      Computer Hardware & Software   \n",
       "\n",
       "                              sector  \n",
       "16                 Business Services  \n",
       "70            Information Technology  \n",
       "71                           Finance  \n",
       "92            Information Technology  \n",
       "116     Oil, Gas, Energy & Utilities  \n",
       "...                              ...  \n",
       "165259                    Government  \n",
       "165262                       Unknown  \n",
       "165275             Business Services  \n",
       "165280                       Unknown  \n",
       "165286        Information Technology  \n",
       "\n",
       "[14719 rows x 6 columns]"
      ]
     },
     "execution_count": 7,
     "metadata": {},
     "output_type": "execute_result"
    }
   ],
   "source": [
    "best_columns"
   ]
  },
  {
   "cell_type": "raw",
   "metadata": {},
   "source": []
  },
  {
   "cell_type": "markdown",
   "metadata": {},
   "source": [
    "# RandomForestRegressor"
   ]
  },
  {
   "cell_type": "code",
   "execution_count": 8,
   "metadata": {},
   "outputs": [],
   "source": [
    "randomforest_regression_r2 = {}\n",
    "randomforest_regression_oob = {}\n",
    "randomforest_regression_validation = {}"
   ]
  },
  {
   "cell_type": "code",
   "execution_count": 9,
   "metadata": {},
   "outputs": [],
   "source": [
    "rf_basic_regressor_n10 = RandomForestRegressor(n_estimators = n_e1, n_jobs = -1, oob_score = True,\n",
    "                                           bootstrap = True, random_state = 42)\n",
    "\n",
    "rf_basic_regressor_n100 = RandomForestRegressor(n_estimators = n_e2, n_jobs = -1, oob_score = True,\n",
    "                                           bootstrap = True, random_state = 42)\n",
    "\n",
    "rf_basic_regressor_n1000 = RandomForestRegressor(n_estimators = n_e3, n_jobs = -1, oob_score = True,\n",
    "                                           bootstrap = True, random_state = 42)\n"
   ]
  },
  {
   "cell_type": "code",
   "execution_count": null,
   "metadata": {},
   "outputs": [],
   "source": []
  },
  {
   "cell_type": "code",
   "execution_count": 10,
   "metadata": {},
   "outputs": [
    {
     "data": {
      "text/plain": [
       "RandomForestRegressor(bootstrap=True, ccp_alpha=0.0, criterion='mse',\n",
       "                      max_depth=None, max_features='auto', max_leaf_nodes=None,\n",
       "                      max_samples=None, min_impurity_decrease=0.0,\n",
       "                      min_impurity_split=None, min_samples_leaf=1,\n",
       "                      min_samples_split=2, min_weight_fraction_leaf=0.0,\n",
       "                      n_estimators=10, n_jobs=-1, oob_score=True,\n",
       "                      random_state=42, verbose=0, warm_start=False)"
      ]
     },
     "execution_count": 10,
     "metadata": {},
     "output_type": "execute_result"
    }
   ],
   "source": [
    "rf_basic_regressor_n10.fit(X_train, y_train)"
   ]
  },
  {
   "cell_type": "code",
   "execution_count": 11,
   "metadata": {},
   "outputs": [],
   "source": [
    "rf_basic_r2_n10 = rf_basic_regressor_n10.score(X_train, y_train)\n",
    "rf_basic_oob_n10 = rf_basic_regressor_n10.oob_score_\n",
    "rf_basic_validation_n10 = rf_basic_regressor_n10.score(X_valid, y_valid)\n",
    "\n",
    "randomforest_regression_r2['RF_r2_N10'] =  rf_basic_r2_n10\n",
    "randomforest_regression_oob['RF_oob_N10'] =  rf_basic_oob_n10\n",
    "randomforest_regression_validation['RF_r2_validation_N10'] =  rf_basic_validation_n10"
   ]
  },
  {
   "cell_type": "code",
   "execution_count": null,
   "metadata": {},
   "outputs": [],
   "source": []
  },
  {
   "cell_type": "code",
   "execution_count": 12,
   "metadata": {},
   "outputs": [
    {
     "data": {
      "text/plain": [
       "RandomForestRegressor(bootstrap=True, ccp_alpha=0.0, criterion='mse',\n",
       "                      max_depth=None, max_features='auto', max_leaf_nodes=None,\n",
       "                      max_samples=None, min_impurity_decrease=0.0,\n",
       "                      min_impurity_split=None, min_samples_leaf=1,\n",
       "                      min_samples_split=2, min_weight_fraction_leaf=0.0,\n",
       "                      n_estimators=100, n_jobs=-1, oob_score=True,\n",
       "                      random_state=42, verbose=0, warm_start=False)"
      ]
     },
     "execution_count": 12,
     "metadata": {},
     "output_type": "execute_result"
    }
   ],
   "source": [
    "rf_basic_regressor_n100.fit(X_train, y_train)"
   ]
  },
  {
   "cell_type": "code",
   "execution_count": 13,
   "metadata": {},
   "outputs": [],
   "source": [
    "rf_basic_r2_n100 = rf_basic_regressor_n100.score(X_train, y_train)\n",
    "rf_basic_oob_n100 = rf_basic_regressor_n100.oob_score_\n",
    "rf_basic_validation_n100 = rf_basic_regressor_n100.score(X_valid, y_valid)\n",
    "\n",
    "randomforest_regression_r2['RF_r2_N100'] =  rf_basic_r2_n100\n",
    "randomforest_regression_oob['RF_oob_N100'] =  rf_basic_oob_n100\n",
    "randomforest_regression_validation['RF_r2_validation_N100'] =  rf_basic_validation_n100"
   ]
  },
  {
   "cell_type": "code",
   "execution_count": null,
   "metadata": {},
   "outputs": [],
   "source": []
  },
  {
   "cell_type": "code",
   "execution_count": 14,
   "metadata": {},
   "outputs": [
    {
     "data": {
      "text/plain": [
       "RandomForestRegressor(bootstrap=True, ccp_alpha=0.0, criterion='mse',\n",
       "                      max_depth=None, max_features='auto', max_leaf_nodes=None,\n",
       "                      max_samples=None, min_impurity_decrease=0.0,\n",
       "                      min_impurity_split=None, min_samples_leaf=1,\n",
       "                      min_samples_split=2, min_weight_fraction_leaf=0.0,\n",
       "                      n_estimators=1000, n_jobs=-1, oob_score=True,\n",
       "                      random_state=42, verbose=0, warm_start=False)"
      ]
     },
     "execution_count": 14,
     "metadata": {},
     "output_type": "execute_result"
    }
   ],
   "source": [
    "rf_basic_regressor_n1000.fit(X_train, y_train)"
   ]
  },
  {
   "cell_type": "code",
   "execution_count": 15,
   "metadata": {},
   "outputs": [],
   "source": [
    "rf_basic_r2_n1000 = rf_basic_regressor_n1000.score(X_train, y_train)\n",
    "rf_basic_oob_n1000 = rf_basic_regressor_n1000.oob_score_\n",
    "rf_basic_validation_n1000 = rf_basic_regressor_n1000.score(X_valid, y_valid)\n",
    "\n",
    "randomforest_regression_r2['RF_r2_N1000'] =  rf_basic_r2_n1000\n",
    "randomforest_regression_oob['RF_oob_N1000'] =  rf_basic_oob_n1000\n",
    "randomforest_regression_validation['RF_r2_validation_N1000'] =  rf_basic_validation_n1000"
   ]
  },
  {
   "cell_type": "code",
   "execution_count": 16,
   "metadata": {},
   "outputs": [
    {
     "data": {
      "text/plain": [
       "{'RF_r2_N10': 0.7742488503302116,\n",
       " 'RF_r2_N100': 0.8216497679966522,\n",
       " 'RF_r2_N1000': 0.8271740665429423}"
      ]
     },
     "execution_count": 16,
     "metadata": {},
     "output_type": "execute_result"
    }
   ],
   "source": [
    "randomforest_regression_r2"
   ]
  },
  {
   "cell_type": "code",
   "execution_count": 17,
   "metadata": {},
   "outputs": [
    {
     "data": {
      "text/plain": [
       "{'RF_oob_N10': -0.10888602712295956,\n",
       " 'RF_oob_N100': 0.11473890628945034,\n",
       " 'RF_oob_N1000': 0.13258703115777085}"
      ]
     },
     "execution_count": 17,
     "metadata": {},
     "output_type": "execute_result"
    }
   ],
   "source": [
    "randomforest_regression_oob"
   ]
  },
  {
   "cell_type": "code",
   "execution_count": 18,
   "metadata": {},
   "outputs": [
    {
     "data": {
      "text/plain": [
       "{'RF_r2_validation_N10': -0.0025062656641632697,\n",
       " 'RF_r2_validation_N100': -0.0025062656641632697,\n",
       " 'RF_r2_validation_N1000': -0.0025062656641632697}"
      ]
     },
     "execution_count": 18,
     "metadata": {},
     "output_type": "execute_result"
    }
   ],
   "source": [
    "randomforest_regression_validation"
   ]
  },
  {
   "cell_type": "code",
   "execution_count": 19,
   "metadata": {},
   "outputs": [
    {
     "name": "stdout",
     "output_type": "stream",
     "text": [
      "0.8271740665429423\n"
     ]
    }
   ],
   "source": [
    "# will be used later when we do one big plot of the best of everything\n",
    "import operator\n",
    "rfr2_highest_value = max(randomforest_regression_r2.items(), key=operator.itemgetter(1))[0]\n",
    "rfr2_selected = randomforest_regression_r2[rfr2_highest_value]\n",
    "print(rfr2_selected)"
   ]
  },
  {
   "cell_type": "code",
   "execution_count": 20,
   "metadata": {},
   "outputs": [
    {
     "name": "stdout",
     "output_type": "stream",
     "text": [
      "(0.7742488503302116, 0.8216497679966522, 0.8271740665429423)\n"
     ]
    },
    {
     "data": {
      "image/png": "[encoded data removed]",
      "text/plain": [
       "<Figure size 432x288 with 1 Axes>"
      ]
     },
     "metadata": {
      "needs_background": "light"
     },
     "output_type": "display_data"
    }
   ],
   "source": [
    "#randomforest_regression_r2  randomforest_regression_oob  randomforest_regression_validation\n",
    "lists_r2 = sorted(randomforest_regression_r2.items(), key=lambda x: x[1])\n",
    "lists_oob = sorted(randomforest_regression_oob.items(), key=lambda x: x[1])\n",
    "lists_r2_validation = sorted(randomforest_regression_validation.items(), key=lambda x: x[1])\n",
    "\n",
    "plot_r2_x, plot_re_y = zip(*lists_r2)\n",
    "plot_oob_x, plot_oob_y = zip(*lists_oob)\n",
    "plot_validation_x, plot_validation_y = zip(*lists_r2_validation)\n",
    "\n",
    "print(plot_re_y)\n",
    "plt.plot(plot_r2_x, plot_re_y)\n",
    "plt.title(\"Random Forest Regression\")\n",
    "plt.xlabel(\"Number of n_estimator\")\n",
    "plt.ylabel(\"Accuracy\")\n",
    "plt.xticks(rotation=90)\n",
    "plt.show()\n"
   ]
  },
  {
   "cell_type": "code",
   "execution_count": 21,
   "metadata": {},
   "outputs": [
    {
     "data": {
      "image/png": "[encoded data removed]",
      "text/plain": [
       "<Figure size 936x504 with 2 Axes>"
      ]
     },
     "metadata": {},
     "output_type": "display_data"
    }
   ],
   "source": [
    "sns.set(style=\"whitegrid\")\n",
    "f, (ax_bar, ax_point) = plt.subplots(ncols=2, sharey=True, gridspec_kw= {\"width_ratios\":(0.6,1)}, figsize=(13,7))\n",
    "\n",
    "sns.lineplot(x=plot_r2_x, y=plot_re_y,ax=ax_bar).set(ylabel=\"R^2 Score\",xlabel=\"Number of n_estimators\")\n",
    "sns.lineplot(x=plot_oob_x, y=plot_oob_y, ax=ax_point).set(ylabel=\"Out-of-bag error\",xlabel=\"Number of n_estimators\")\n",
    "\n",
    "plt.tight_layout()"
   ]
  },
  {
   "cell_type": "raw",
   "metadata": {},
   "source": []
  },
  {
   "cell_type": "markdown",
   "metadata": {},
   "source": [
    "# RandomForestRegressor BASIC PIPELINE"
   ]
  },
  {
   "cell_type": "code",
   "execution_count": 22,
   "metadata": {},
   "outputs": [
    {
     "data": {
      "text/plain": [
       "'\\nsearch_space_basic = [\\n                {\"classifier__n_estimators\": [10, 100, 1000],\\n                 \"classifier__max_depth\":[5, 8, 15, 25, 30, None],\\n                 \"classifier__min_samples_leaf\":[1, 2, 5, 10, 15, 100],\\n                 \"classifier__max_leaf_nodes\": [2, 5, 10]}]\\n                 '"
      ]
     },
     "execution_count": 22,
     "metadata": {},
     "output_type": "execute_result"
    }
   ],
   "source": [
    "randomforest_pipeline = {}\n",
    "pipe_basic = Pipeline([(\"classifier\", RandomForestRegressor())])\n",
    "\n",
    "search_space_basic = [ {\"classifier__n_estimators\": [10, 100, 1000]} ]\n",
    "\n",
    "'''\n",
    "search_space_basic = [ {\"classifier__n_estimators\": [10, 100, 1000],\n",
    "                 \"classifier__max_depth\":[5],\n",
    "                 \"classifier__min_samples_leaf\":[1],\n",
    "                 \"classifier__max_leaf_nodes\": [2]}]\n",
    "'''\n",
    "'''\n",
    "search_space_basic = [\n",
    "                {\"classifier__n_estimators\": [10, 100, 1000],\n",
    "                 \"classifier__max_depth\":[5, 8, 15, 25, 30, None],\n",
    "                 \"classifier__min_samples_leaf\":[1, 2, 5, 10, 15, 100],\n",
    "                 \"classifier__max_leaf_nodes\": [2, 5, 10]}]\n",
    "                 '''"
   ]
  },
  {
   "cell_type": "code",
   "execution_count": null,
   "metadata": {},
   "outputs": [],
   "source": [
    "# Create grid search\n",
    "gridsearch_basic = GridSearchCV(pipe_basic, search_space_basic, cv=5, verbose=0, n_jobs=8)\n",
    "best_model_basic = gridsearch_basic.fit(X_train, y_train)"
   ]
  },
  {
   "cell_type": "code",
   "execution_count": null,
   "metadata": {
    "scrolled": true
   },
   "outputs": [],
   "source": [
    "print(best_model_basic.best_estimator_)\n",
    "print(\"The mean accuracy of the model is:\", best_model_basic.score(X_train, y_train))"
   ]
  },
  {
   "cell_type": "code",
   "execution_count": null,
   "metadata": {},
   "outputs": [],
   "source": [
    "print(\"The mean accuracy of the test model is:\", best_model_basic.score(X_valid, y_valid))\n",
    "#OVERFITTED"
   ]
  },
  {
   "cell_type": "markdown",
   "metadata": {},
   "source": [
    "#### data outputs from testing\n",
    "classifier__n_estimators = 0.7834532024505702\n",
    "classifier__max_depth = 0.02472940443851716\n",
    "classifier__min_samples_leaf = 0.8357316146346587\n",
    "classifier__max_leaf_nodes = 0.004950392987272424\n",
    "\n",
    "+ min_samples_leaf=1\n",
    "+ max_leaf_nodes=2\n",
    "+ max_depth=5\n",
    "+ n_estimator = 10"
   ]
  },
  {
   "cell_type": "markdown",
   "metadata": {},
   "source": []
  },
  {
   "cell_type": "code",
   "execution_count": null,
   "metadata": {},
   "outputs": [],
   "source": [
    "rf_pipeline_score = best_model_basic.score(X_train, y_train)\n",
    "randomforest_pipeline['RF_pipeline'] =  rf_pipeline_score\n",
    "rf_pipeline_score"
   ]
  },
  {
   "cell_type": "raw",
   "metadata": {},
   "source": []
  },
  {
   "cell_type": "markdown",
   "metadata": {},
   "source": [
    "# Adaboost Regression"
   ]
  },
  {
   "cell_type": "code",
   "execution_count": null,
   "metadata": {},
   "outputs": [],
   "source": [
    "adaboost_regression = {}"
   ]
  },
  {
   "cell_type": "code",
   "execution_count": null,
   "metadata": {},
   "outputs": [],
   "source": [
    "X_asr, y_asr = make_regression(n_features=4, n_informative=2,\n",
    "                       random_state=0, shuffle=False)\n",
    "\n",
    "asr_n10 = AdaBoostRegressor(random_state=0, n_estimators=n_e1)\n",
    "asr_n100 = AdaBoostRegressor(random_state=0, n_estimators=n_e2)\n",
    "asr_n1000 = AdaBoostRegressor(random_state=0, n_estimators=n_e3)\n",
    "\n",
    "asr_n10.fit(X_asr, y_asr)\n",
    "asr_n100.fit(X_asr, y_asr)\n",
    "asr_n1000.fit(X_asr, y_asr)"
   ]
  },
  {
   "cell_type": "code",
   "execution_count": null,
   "metadata": {},
   "outputs": [],
   "source": [
    "to_predict = [0,0,0,0]\n",
    "asr_n10.predict([to_predict])\n",
    "asr_n100.predict([to_predict])\n",
    "asr_n1000.predict([to_predict])"
   ]
  },
  {
   "cell_type": "code",
   "execution_count": null,
   "metadata": {},
   "outputs": [],
   "source": [
    "asr_n10_score = asr_n10.score(X_asr, y_asr)\n",
    "asr_n100_score = asr_n100.score(X_asr, y_asr)\n",
    "asr_n1000_score = asr_n1000.score(X_asr, y_asr)\n",
    "\n",
    "adaboost_regression['N_10'] =  asr_n10_score\n",
    "adaboost_regression['N_100'] =  asr_n100_score\n",
    "adaboost_regression['N_1000'] =  asr_n1000_score"
   ]
  },
  {
   "cell_type": "code",
   "execution_count": null,
   "metadata": {},
   "outputs": [],
   "source": [
    "# will be used later when we do one big plot of the best of everything\n",
    "adaboost_highest_value = max(adaboost_regression.items(), key=operator.itemgetter(1))[0]\n",
    "adaboost_selected = adaboost_regression[adaboost_highest_value]\n",
    "print(adaboost_selected)"
   ]
  },
  {
   "cell_type": "code",
   "execution_count": null,
   "metadata": {},
   "outputs": [],
   "source": [
    "adaboost_regression"
   ]
  },
  {
   "cell_type": "code",
   "execution_count": null,
   "metadata": {},
   "outputs": [],
   "source": [
    "lists = sorted(adaboost_regression.items(), key=lambda x: x[1])\n",
    "plot_x, plot_y = zip(*lists)\n",
    "print(plot_y)\n",
    "plt.plot(plot_x, plot_y)\n",
    "plt.title(\"Adaboost Regression\")\n",
    "plt.xlabel(\"Number of n_estimator\")\n",
    "plt.ylabel(\"Accuracy\")\n",
    "plt.xticks(rotation=90)\n",
    "plt.show()"
   ]
  },
  {
   "cell_type": "raw",
   "metadata": {},
   "source": []
  },
  {
   "cell_type": "markdown",
   "metadata": {},
   "source": [
    "# DecisionTreeRegressor"
   ]
  },
  {
   "cell_type": "code",
   "execution_count": null,
   "metadata": {},
   "outputs": [],
   "source": [
    "descisiontree_regressor = {}\n",
    "max_depth = 2\n",
    "min_samples_split = 10"
   ]
  },
  {
   "cell_type": "code",
   "execution_count": null,
   "metadata": {},
   "outputs": [],
   "source": [
    "tree_reg1 = DecisionTreeRegressor(max_depth = max_depth, min_samples_split = min_samples_split)\n",
    "tree_reg1.fit(X_train, y_train)\n",
    "\n",
    "y2 = y_train - tree_reg1.predict(X_train)\n",
    "tree_reg2 = DecisionTreeRegressor(max_depth = max_depth)\n",
    "tree_reg2.fit(X_train, y2)\n",
    "\n",
    "y3 = y2 - tree_reg2.predict(X_train)\n",
    "tree_reg3 = DecisionTreeRegressor(max_depth = max_depth)\n",
    "tree_reg3.fit(X_train, y3)\n",
    "\n",
    "y_pred = sum(tree.predict(X_valid[1:2]) for tree in (tree_reg1, tree_reg2, tree_reg3))"
   ]
  },
  {
   "cell_type": "code",
   "execution_count": null,
   "metadata": {},
   "outputs": [],
   "source": [
    "descisiontree_cross_val_score = cross_val_score(tree_reg3, X_train, y_train, cv=10)\n",
    "descisiontree_test_cross_val_score = cross_val_score(tree_reg3, X_valid, y_valid, cv=10)"
   ]
  },
  {
   "cell_type": "code",
   "execution_count": null,
   "metadata": {},
   "outputs": [],
   "source": [
    "descisiontree_cross_val_score"
   ]
  },
  {
   "cell_type": "code",
   "execution_count": null,
   "metadata": {},
   "outputs": [],
   "source": [
    "descisiontree_test_cross_val_score"
   ]
  },
  {
   "cell_type": "code",
   "execution_count": null,
   "metadata": {},
   "outputs": [],
   "source": [
    "# will be used later when we do one big plot of the best of everything\n",
    "descisiontree_selected = max(descisiontree_cross_val_score)"
   ]
  },
  {
   "cell_type": "markdown",
   "metadata": {},
   "source": [
    "#### data output from testing\n",
    " - max_depth = 2 and min_samples_split = 5  - ->  -0.025641025641026004\n",
    "\n",
    " - max_depth = 10 and min_samples_split = 20 -->  -0.025641025641026004\n"
   ]
  },
  {
   "cell_type": "markdown",
   "metadata": {},
   "source": [
    "# PLOTS"
   ]
  },
  {
   "cell_type": "code",
   "execution_count": null,
   "metadata": {},
   "outputs": [],
   "source": [
    "algorithms = {}"
   ]
  },
  {
   "cell_type": "code",
   "execution_count": null,
   "metadata": {},
   "outputs": [],
   "source": [
    "#best Random forrest r^2 value\n",
    "algorithms['Random Forest'] =  rfr2_selected\n",
    "algorithms['Random Forest Pipeline'] = rf_pipeline_score\n",
    "algorithms['Adaboost'] = adaboost_selected\n",
    "algorithms['Descision Tree'] = descisiontree_selected\n",
    "print(algorithms)"
   ]
  },
  {
   "cell_type": "code",
   "execution_count": null,
   "metadata": {},
   "outputs": [],
   "source": [
    "algorithms_lists = sorted(algorithms.items(), key=lambda x: x[1])\n",
    "plot_x, plot_y = zip(*algorithms_lists)\n",
    "print(plot_y)\n",
    "plt.plot(plot_x, plot_y)\n",
    "plt.title(\"All Model Accuracy\")\n",
    "plt.xlabel(\"Models\")\n",
    "plt.ylabel(\"Accuracy\")\n",
    "plt.xticks(rotation=90)\n",
    "plt.show()"
   ]
  },
  {
   "cell_type": "code",
   "execution_count": null,
   "metadata": {},
   "outputs": [],
   "source": [
    "print(algorithms)"
   ]
  },
  {
   "cell_type": "code",
   "execution_count": null,
   "metadata": {},
   "outputs": [],
   "source": []
  },
  {
   "cell_type": "markdown",
   "metadata": {},
   "source": [
    "### BEST COLUMNS DATA PLOTS"
   ]
  },
  {
   "cell_type": "code",
   "execution_count": null,
   "metadata": {},
   "outputs": [],
   "source": [
    "best_columns.plot(x=\"jobTitle\", y=\"salaries\")\n",
    "plt.xticks(rotation=90)\n",
    "plt.show()"
   ]
  },
  {
   "cell_type": "code",
   "execution_count": null,
   "metadata": {},
   "outputs": [],
   "source": [
    "sns.scatterplot(x='salaries', y='sector', data=best_columns, hue='salaries', s = 30)"
   ]
  },
  {
   "cell_type": "code",
   "execution_count": null,
   "metadata": {},
   "outputs": [],
   "source": [
    "sns.set(style=\"whitegrid\")\n",
    "sns.barplot(x='salaries',y='sector',data=best_columns)\n",
    "plt.show()"
   ]
  },
  {
   "cell_type": "code",
   "execution_count": null,
   "metadata": {},
   "outputs": [],
   "source": [
    "sns.set(style=\"whitegrid\")\n",
    "f, (ax_bar, ax_point) = plt.subplots(ncols=2, sharey=True, gridspec_kw= {\"width_ratios\":(0.6,1)}, figsize=(13,7))\n",
    "\n",
    "sns.barplot(x='salaries', y='country', data=best_columns, ax=ax_bar)\n",
    "#sns.pointplot(x='Est_Salary',y='HQState',data=HQCount, join=False,ax=ax_point).set(ylabel=\"\",xlabel=\"Salary ($'000)\")\n",
    "\n",
    "plt.tight_layout()"
   ]
  },
  {
   "cell_type": "code",
   "execution_count": null,
   "metadata": {},
   "outputs": [],
   "source": [
    "best_columns"
   ]
  },
  {
   "cell_type": "code",
   "execution_count": null,
   "metadata": {},
   "outputs": [],
   "source": []
  },
  {
   "cell_type": "code",
   "execution_count": null,
   "metadata": {},
   "outputs": [],
   "source": []
  },
  {
   "cell_type": "markdown",
   "metadata": {},
   "source": [
    "-------------------------"
   ]
  },
  {
   "cell_type": "markdown",
   "metadata": {},
   "source": [
    "# ONLY RUN WHEN WORKING ON THE PLOTS"
   ]
  },
  {
   "cell_type": "code",
   "execution_count": null,
   "metadata": {},
   "outputs": [],
   "source": [
    "'''\n",
    "algorithms = {}\n",
    "algorithms['RandomForestRegressor_1_train'] =  0.8453734335839596\n",
    "algorithms['RandomForestRegressor_1_test'] =  -0.0006253908692829105\n",
    "algorithms['RandomForestRegressor_1_OOB'] =  0.78\n",
    "algorithms['RandomForestRegressor_pipeline_train'] = 0.7985463659147864\n",
    "algorithms['AdaboostRegressor_train'] =  0.9771376939813696\n",
    "algorithms['DecisionTreeRegresspr_train'] = 0.005063162313789384\n",
    "'''\n",
    "#Same as above but now each model has its own dict with key and value\n",
    "\n",
    "randomforest_regression_r2 = {'RF_r2_N10': 0.7763266499582282, \n",
    "                              'RF_r2_N100': 0.8347831924255078, \n",
    "                              'RF_r2_N1000': 0.8424529497240262}\n",
    "\n",
    "randomforest_regression_oob = {'RF_oob_N10': -0.1046978664853111,\n",
    "                               'RF_oob_N100': 0.12129665648748027,\n",
    "                               'RF_oob_N1000': 0.13688244879543665}\n",
    "\n",
    "randomforest_regression_validation = {'RF_r2_validation_N10': -0.010101010101010676,\n",
    "                                      'RF_r2_validation_N100': -0.010101010101010676,\n",
    "                                      'RF_r2_validation_N1000': -0.010101010101010676}\n",
    "\n",
    "randomforest_pipeline = {'RF_pipeline': 0.7874852442898624}\n",
    "\n",
    "adaboost_regression = {'N_10': 0.9498018560826543, \n",
    "                       'N_100': 0.9771376939813696, \n",
    "                       'N_1000': 0.9791724485436129}\n",
    "\n",
    "rfr2_selected = 0.8424529497240262\n",
    "rf_pipeline_score = 0.7893759120022272\n",
    "adaboost_selected = 0.9791724485436129\n",
    "descisiontree_selected = -0.025641025641026004\n",
    "\n"
   ]
  },
  {
   "cell_type": "code",
   "execution_count": null,
   "metadata": {},
   "outputs": [],
   "source": []
  }
 ],
 "metadata": {
  "kernelspec": {
   "display_name": "Python 3",
   "language": "python",
   "name": "python3"
  },
  "language_info": {
   "codemirror_mode": {
    "name": "ipython",
    "version": 3
   },
   "file_extension": ".py",
   "mimetype": "text/x-python",
   "name": "python",
   "nbconvert_exporter": "python",
   "pygments_lexer": "ipython3",
   "version": "3.7.6"
  }
 },
 "nbformat": 4,
 "nbformat_minor": 4
}
